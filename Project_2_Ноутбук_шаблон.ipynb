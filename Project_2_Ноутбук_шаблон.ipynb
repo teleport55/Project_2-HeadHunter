{
  "cells": [
    {
      "cell_type": "markdown",
      "metadata": {
        "id": "view-in-github",
        "colab_type": "text"
      },
      "source": [
        "<a href=\"https://colab.research.google.com/github/teleport55/Project_2-HeadHunter/blob/master/Project_2_%D0%9D%D0%BE%D1%83%D1%82%D0%B1%D1%83%D0%BA_%D1%88%D0%B0%D0%B1%D0%BB%D0%BE%D0%BD.ipynb\" target=\"_parent\"><img src=\"https://colab.research.google.com/assets/colab-badge.svg\" alt=\"Open In Colab\"/></a>"
      ]
    },
    {
      "cell_type": "markdown",
      "id": "42289889-bd57-434e-9637-d3e354756316",
      "metadata": {
        "id": "42289889-bd57-434e-9637-d3e354756316"
      },
      "source": [
        "<center> <img src = https://raw.githubusercontent.com/AndreyRysistov/DatasetsForPandas/main/hh%20label.jpg alt=\"drawing\" style=\"width:400px;\">"
      ]
    },
    {
      "cell_type": "markdown",
      "id": "829cb75b-f14e-4ba8-9195-7ba929a7d656",
      "metadata": {
        "tags": [],
        "id": "829cb75b-f14e-4ba8-9195-7ba929a7d656"
      },
      "source": [
        "# <center> Проект: Анализ вакансий из HeadHunter\n",
        "   "
      ]
    },
    {
      "cell_type": "code",
      "execution_count": 1,
      "id": "dccfde33-2452-43fb-a8a5-5c6ebc02a71d",
      "metadata": {
        "id": "dccfde33-2452-43fb-a8a5-5c6ebc02a71d"
      },
      "outputs": [],
      "source": [
        "import pandas as pd\n",
        "import psycopg2"
      ]
    },
    {
      "cell_type": "code",
      "source": [
        "DBNAME = 'project_sql'\n",
        "USER = 'skillfactory'\n",
        "PASSWORD = 'cCkxxLVrDE8EbvjueeMedPKt'\n",
        "HOST = '84.201.134.129'\n",
        "PORT = 5432"
      ],
      "metadata": {
        "id": "oVKH4ehvf8Ay"
      },
      "id": "oVKH4ehvf8Ay",
      "execution_count": 2,
      "outputs": []
    },
    {
      "cell_type": "code",
      "source": [
        "connection = psycopg2.connect(\n",
        "    dbname=DBNAME,\n",
        "    user=USER,\n",
        "    host=HOST,\n",
        "    password=PASSWORD,\n",
        "    port=PORT\n",
        ")"
      ],
      "metadata": {
        "id": "G4X_q8KBf7SF"
      },
      "id": "G4X_q8KBf7SF",
      "execution_count": 3,
      "outputs": []
    },
    {
      "cell_type": "markdown",
      "id": "0dc6476b-7a00-44f1-ac93-6e3baed33a29",
      "metadata": {
        "id": "0dc6476b-7a00-44f1-ac93-6e3baed33a29"
      },
      "source": [
        "# Юнит 3. Предварительный анализ данных"
      ]
    },
    {
      "cell_type": "markdown",
      "id": "889782b6-8d1c-410e-8920-e57f27917c64",
      "metadata": {
        "id": "889782b6-8d1c-410e-8920-e57f27917c64"
      },
      "source": [
        "1. Напишите запрос, который посчитает количество вакансий в нашей базе (вакансии находятся в таблице vacancies). "
      ]
    },
    {
      "cell_type": "code",
      "execution_count": 4,
      "id": "bc39e68e-ed02-4ee2-9235-7258a2f867a8",
      "metadata": {
        "id": "bc39e68e-ed02-4ee2-9235-7258a2f867a8"
      },
      "outputs": [],
      "source": [
        "query_3_1 = f'''\n",
        "            select count(*)\n",
        "            from vacancies\n",
        "            '''\n"
      ]
    },
    {
      "cell_type": "code",
      "source": [
        "count_vacancies = pd.read_sql_query(query_3_1, connection)\n",
        "print(f\"Количество вакансий: {count_vacancies['count'][0]} шт\")"
      ],
      "metadata": {
        "id": "7mAwtsk4hEHY",
        "colab": {
          "base_uri": "https://localhost:8080/"
        },
        "outputId": "0ed43bb8-bb4a-454e-a89f-7e54810c5d47"
      },
      "id": "7mAwtsk4hEHY",
      "execution_count": 5,
      "outputs": [
        {
          "output_type": "stream",
          "name": "stdout",
          "text": [
            "Количество вакансий: 49197 шт\n"
          ]
        }
      ]
    },
    {
      "cell_type": "markdown",
      "id": "b583485d-1f9e-494e-ada4-80ffff7c53d6",
      "metadata": {
        "id": "b583485d-1f9e-494e-ada4-80ffff7c53d6"
      },
      "source": [
        "2. Напишите запрос, который посчитает количество работодателей (таблица employers). "
      ]
    },
    {
      "cell_type": "code",
      "execution_count": null,
      "id": "5408c52c-3407-4a63-b25b-1aafa2322d28",
      "metadata": {
        "id": "5408c52c-3407-4a63-b25b-1aafa2322d28"
      },
      "outputs": [],
      "source": [
        "query_3_2 = f'''\n",
        "            select count(*)\n",
        "            from employers\n",
        "            '''\n"
      ]
    },
    {
      "cell_type": "code",
      "source": [
        "count_employers = pd.read_sql_query(query_3_2, connection)\n",
        "print(f\"Количество работодателей: {count_employers['count'][0]}\")"
      ],
      "metadata": {
        "id": "jVL4eshKhdqc",
        "colab": {
          "base_uri": "https://localhost:8080/"
        },
        "outputId": "72090968-94a4-47bb-bff4-2ea575e0ae3f"
      },
      "id": "jVL4eshKhdqc",
      "execution_count": null,
      "outputs": [
        {
          "output_type": "stream",
          "name": "stdout",
          "text": [
            "Количество работодателей: 23501\n"
          ]
        }
      ]
    },
    {
      "cell_type": "markdown",
      "id": "a2bfff1f-c975-4bf6-84be-2185d79dcb76",
      "metadata": {
        "id": "a2bfff1f-c975-4bf6-84be-2185d79dcb76"
      },
      "source": [
        "3. Посчитате с помощью запроса количество регионов (таблица areas)."
      ]
    },
    {
      "cell_type": "code",
      "source": [
        "query_3_3 = f'''\n",
        "            select count(*)\n",
        "            from areas\n",
        "            '''\n"
      ],
      "metadata": {
        "id": "1m8QJwBYhey6"
      },
      "id": "1m8QJwBYhey6",
      "execution_count": null,
      "outputs": []
    },
    {
      "cell_type": "code",
      "source": [
        "count_areas = pd.read_sql_query(query_3_3, connection)\n",
        "print(f\"Количество регионов: {count_areas['count'][0]}\")"
      ],
      "metadata": {
        "id": "EZsn9tlfhe7f",
        "colab": {
          "base_uri": "https://localhost:8080/"
        },
        "outputId": "7505b90a-c696-4404-b0d7-7b572b9bc927"
      },
      "id": "EZsn9tlfhe7f",
      "execution_count": null,
      "outputs": [
        {
          "output_type": "stream",
          "name": "stdout",
          "text": [
            "Количество регионов: 1362\n"
          ]
        }
      ]
    },
    {
      "cell_type": "markdown",
      "id": "41bb59f3-53cc-4a67-a5bc-bedf573955e4",
      "metadata": {
        "id": "41bb59f3-53cc-4a67-a5bc-bedf573955e4"
      },
      "source": [
        "4. Посчитате с помощью запроса количество сфер деятельности в базе (таблица industries)."
      ]
    },
    {
      "cell_type": "code",
      "execution_count": null,
      "id": "d286cf4c-707b-4cd2-9190-7ab3587d04a1",
      "metadata": {
        "id": "d286cf4c-707b-4cd2-9190-7ab3587d04a1"
      },
      "outputs": [],
      "source": [
        "query_3_4 = f'''\n",
        "            select count(*)\n",
        "            from industries\n",
        "            '''"
      ]
    },
    {
      "cell_type": "code",
      "source": [
        "count_industries = pd.read_sql_query(query_3_4, connection)\n",
        "print(f\"Количество сфер деятельности: {count_industries['count'][0]}\")"
      ],
      "metadata": {
        "id": "JYAaoZ4qhfzW",
        "colab": {
          "base_uri": "https://localhost:8080/"
        },
        "outputId": "87c96a17-6781-447d-a475-0f5a683c4d5b"
      },
      "id": "JYAaoZ4qhfzW",
      "execution_count": null,
      "outputs": [
        {
          "output_type": "stream",
          "name": "stdout",
          "text": [
            "Количество сфер деятельности: 294\n"
          ]
        }
      ]
    },
    {
      "cell_type": "markdown",
      "id": "9a8a2181-6914-448b-85f1-38f5f18b8a93",
      "metadata": {
        "id": "9a8a2181-6914-448b-85f1-38f5f18b8a93"
      },
      "source": [
        "***"
      ]
    },
    {
      "cell_type": "code",
      "execution_count": null,
      "id": "be4e9bd3-a4db-4a20-82fb-6b02fc2957e0",
      "metadata": {
        "id": "be4e9bd3-a4db-4a20-82fb-6b02fc2957e0",
        "colab": {
          "base_uri": "https://localhost:8080/",
          "height": 54
        },
        "outputId": "d6642a31-3e32-4603-e6cd-d1608d6fda6f"
      },
      "outputs": [
        {
          "output_type": "execute_result",
          "data": {
            "text/plain": [
              "'\\nВ исследовании участвует 49 тысяч вакансии, которые оставили \\n23,5 тысяч различных предприятий в 294 сферах деятельности. \\nМожно отметить, что это отличная выборка, по которой можно судить о состоянии рынка труда. \\n'"
            ],
            "application/vnd.google.colaboratory.intrinsic+json": {
              "type": "string"
            }
          },
          "metadata": {},
          "execution_count": 5
        }
      ],
      "source": [
        "'''\n",
        "В исследовании участвует 49 тысяч вакансии, которые оставили \n",
        "23,5 тысяч различных предприятий в 294 сферах деятельности. \n",
        "Можно отметить, что это отличная выборка, по которой можно судить о состоянии рынка труда. \n",
        "'''"
      ]
    },
    {
      "cell_type": "markdown",
      "id": "8d62a9f3-f64e-4fe7-bdac-c4dffa16155e",
      "metadata": {
        "id": "8d62a9f3-f64e-4fe7-bdac-c4dffa16155e"
      },
      "source": [
        "# Юнит 4. Детальный анализ вакансий"
      ]
    },
    {
      "cell_type": "markdown",
      "id": "93053d3d-b284-481a-9cf7-012d7014c0e0",
      "metadata": {
        "id": "93053d3d-b284-481a-9cf7-012d7014c0e0"
      },
      "source": [
        "1. Напишите запрос, который позволит узнать, сколько (cnt) вакансий в каждом регионе (area).\n",
        "Отсортируйте по количеству вакансий в порядке убывания."
      ]
    },
    {
      "cell_type": "code",
      "execution_count": null,
      "id": "3f069da6-fdc9-4ae7-b514-fafe2675efd3",
      "metadata": {
        "id": "3f069da6-fdc9-4ae7-b514-fafe2675efd3"
      },
      "outputs": [],
      "source": [
        "query_4_1 = f''' \n",
        "            select\n",
        "              a.name,\n",
        "              count(v.id) cnt\n",
        "            from areas a\n",
        "              join vacancies v on a.id = v.area_id\n",
        "            group by a.name\n",
        "            order by cnt DESC\n",
        "            '''"
      ]
    },
    {
      "cell_type": "code",
      "source": [
        "vacancy_by_region = pd.read_sql_query(query_4_1, connection)\n",
        "print(vacancy_by_region)"
      ],
      "metadata": {
        "id": "P7QL86hrjhRJ",
        "colab": {
          "base_uri": "https://localhost:8080/"
        },
        "outputId": "d7cb08ca-52bb-4d34-bbee-175062337382"
      },
      "id": "P7QL86hrjhRJ",
      "execution_count": null,
      "outputs": [
        {
          "output_type": "stream",
          "name": "stdout",
          "text": [
            "                name   cnt\n",
            "0             Москва  5333\n",
            "1    Санкт-Петербург  2851\n",
            "2              Минск  2112\n",
            "3        Новосибирск  2006\n",
            "4             Алматы  1892\n",
            "..               ...   ...\n",
            "764       Тарко-Сале     1\n",
            "765    Новоаннинский     1\n",
            "766            Бирск     1\n",
            "767           Сасово     1\n",
            "768             Анна     1\n",
            "\n",
            "[769 rows x 2 columns]\n"
          ]
        }
      ]
    },
    {
      "cell_type": "markdown",
      "id": "4266f0b6-1646-492a-88b4-2f6a46502135",
      "metadata": {
        "id": "4266f0b6-1646-492a-88b4-2f6a46502135"
      },
      "source": [
        "2. Напишите запрос, чтобы определить у какого количества вакансий заполнено хотя бы одно из двух полей с зарплатой."
      ]
    },
    {
      "cell_type": "code",
      "execution_count": null,
      "id": "0c44b350-72eb-4d65-8b54-a1fc449ba9fd",
      "metadata": {
        "id": "0c44b350-72eb-4d65-8b54-a1fc449ba9fd"
      },
      "outputs": [],
      "source": [
        "# текст запроса\n",
        "query_4_2 = f'''\n",
        "        select count(*)\n",
        "        from vacancies\n",
        "        where salary_from is not null\n",
        "        or salary_to is not null\n",
        "        '''"
      ]
    },
    {
      "cell_type": "code",
      "source": [
        "vacancies_with_salary = pd.read_sql_query(query_4_2, connection) \n",
        "print(f\"Количество вакансий с указанной зарплатой: {vacancies_with_salary['count'][0]}\")"
      ],
      "metadata": {
        "id": "rhvwaMDkoWTi",
        "colab": {
          "base_uri": "https://localhost:8080/"
        },
        "outputId": "078cb41d-f2b5-41ad-c36a-94e7befc167a"
      },
      "id": "rhvwaMDkoWTi",
      "execution_count": null,
      "outputs": [
        {
          "output_type": "stream",
          "name": "stdout",
          "text": [
            "Количество вакансий с указанной зарплатой: 24073\n"
          ]
        }
      ]
    },
    {
      "cell_type": "markdown",
      "id": "635c4d5d-f323-4c66-b428-50a088120aa0",
      "metadata": {
        "id": "635c4d5d-f323-4c66-b428-50a088120aa0"
      },
      "source": [
        "3. Найдите средние значения для нижней и верхней границы зарплатной вилки. Округлите значения до целого."
      ]
    },
    {
      "cell_type": "code",
      "execution_count": null,
      "id": "603cdbe4-0ec3-4106-8eaf-c73fcdd29165",
      "metadata": {
        "id": "603cdbe4-0ec3-4106-8eaf-c73fcdd29165"
      },
      "outputs": [],
      "source": [
        "query_4_3 = f'''\n",
        "              select \n",
        "                avg(salary_from) avg_from,\n",
        "                avg(salary_to) avg_to\n",
        "              from vacancies\n",
        "              '''"
      ]
    },
    {
      "cell_type": "code",
      "source": [
        "avg_salary = pd.read_sql_query(query_4_3, connection)\n",
        "print(f\"Средние значения нижней границы зарплатной вилки: {round(avg_salary['avg_from'][0],0)}\")\n",
        "print(f\"Средние значения верхней границы зарплатной вилки: {round(avg_salary['avg_to'][0],0)}\")"
      ],
      "metadata": {
        "id": "pswpAb66ovZZ",
        "colab": {
          "base_uri": "https://localhost:8080/"
        },
        "outputId": "85853463-8e78-48b5-ae13-1ebe8d88dd1e"
      },
      "id": "pswpAb66ovZZ",
      "execution_count": null,
      "outputs": [
        {
          "output_type": "stream",
          "name": "stdout",
          "text": [
            "Средние значения нижней границы зарплатной вилки: 71065.0\n",
            "Средние значения верхней границы зарплатной вилки: 110537.0\n"
          ]
        }
      ]
    },
    {
      "cell_type": "markdown",
      "id": "f3fdaec9-5fd3-4260-9cf5-1d7406b628a5",
      "metadata": {
        "id": "f3fdaec9-5fd3-4260-9cf5-1d7406b628a5"
      },
      "source": [
        "4. Напишите запрос, который выведет количество вакансий для каждого сочетания типа рабочего графика (schedule) и типа трудоустройства (employment), используемого в вакансиях. Результат отсортируйте по убыванию количества.\n"
      ]
    },
    {
      "cell_type": "code",
      "execution_count": null,
      "id": "1ea710ec-871b-431e-9462-c7d0fd87011b",
      "metadata": {
        "id": "1ea710ec-871b-431e-9462-c7d0fd87011b"
      },
      "outputs": [],
      "source": [
        "query_4_4 = f'''\n",
        "              select\n",
        "                schedule,\n",
        "                employment,\n",
        "                count(*)\n",
        "              from vacancies\n",
        "              group by schedule, employment\n",
        "              order by count(*) DESC\n",
        "              '''"
      ]
    },
    {
      "cell_type": "code",
      "source": [
        "count_shedule_employment = pd.read_sql_query(query_4_4, connection)\n",
        "print(count_shedule_employment)"
      ],
      "metadata": {
        "id": "lGUVqavdo4JQ",
        "colab": {
          "base_uri": "https://localhost:8080/"
        },
        "outputId": "2912a25a-d896-447f-b19f-d58af6d54e2a"
      },
      "id": "lGUVqavdo4JQ",
      "execution_count": null,
      "outputs": [
        {
          "output_type": "stream",
          "name": "stdout",
          "text": [
            "            schedule           employment  count\n",
            "0        Полный день     Полная занятость  35367\n",
            "1   Удаленная работа     Полная занятость   7802\n",
            "2      Гибкий график     Полная занятость   1593\n",
            "3   Удаленная работа  Частичная занятость   1312\n",
            "4     Сменный график     Полная занятость    940\n",
            "5        Полный день           Стажировка    569\n",
            "6     Вахтовый метод     Полная занятость    367\n",
            "7        Полный день  Частичная занятость    347\n",
            "8      Гибкий график  Частичная занятость    312\n",
            "9        Полный день     Проектная работа    141\n",
            "10  Удаленная работа     Проектная работа    133\n",
            "11     Гибкий график           Стажировка    116\n",
            "12    Сменный график  Частичная занятость    101\n",
            "13  Удаленная работа           Стажировка     64\n",
            "14     Гибкий график     Проектная работа     18\n",
            "15    Сменный график           Стажировка     12\n",
            "16    Вахтовый метод     Проектная работа      2\n",
            "17    Сменный график     Проектная работа      1\n"
          ]
        }
      ]
    },
    {
      "cell_type": "markdown",
      "id": "0136ffee-0ead-4a6b-b608-61d1c753a438",
      "metadata": {
        "id": "0136ffee-0ead-4a6b-b608-61d1c753a438"
      },
      "source": [
        "5. Напишите запрос, выводящий значения поля Требуемый опыт работы (experience) в порядке возрастания количества вакансий, в которых указан данный вариант опыта. "
      ]
    },
    {
      "cell_type": "code",
      "execution_count": null,
      "id": "5b3a8e79-f7ab-4008-b767-12aea3a205ea",
      "metadata": {
        "id": "5b3a8e79-f7ab-4008-b767-12aea3a205ea"
      },
      "outputs": [],
      "source": [
        "query_4_5 = f'''\n",
        "              select\n",
        "                experience,\n",
        "                count(*)\n",
        "              from vacancies\n",
        "              group by experience\n",
        "              Order by count(*)\n",
        "              '''"
      ]
    },
    {
      "cell_type": "code",
      "source": [
        "count_experience = pd.read_sql_query(query_4_5, connection)\n",
        "print(count_experience)"
      ],
      "metadata": {
        "id": "3Is64Y-hpDpq",
        "colab": {
          "base_uri": "https://localhost:8080/"
        },
        "outputId": "57771310-1831-4e10-8ad4-6368408717dc"
      },
      "id": "3Is64Y-hpDpq",
      "execution_count": null,
      "outputs": [
        {
          "output_type": "stream",
          "name": "stdout",
          "text": [
            "           experience  count\n",
            "0         Более 6 лет   1337\n",
            "1           Нет опыта   7197\n",
            "2       От 3 до 6 лет  14511\n",
            "3  От 1 года до 3 лет  26152\n"
          ]
        }
      ]
    },
    {
      "cell_type": "markdown",
      "source": [
        "***"
      ],
      "metadata": {
        "id": "oq2b7n1QpIka"
      },
      "id": "oq2b7n1QpIka"
    },
    {
      "cell_type": "code",
      "execution_count": null,
      "id": "e91f87ed-e25c-4f96-9f92-b642e8c0b4fa",
      "metadata": {
        "id": "e91f87ed-e25c-4f96-9f92-b642e8c0b4fa"
      },
      "outputs": [],
      "source": [
        "''' \n",
        "В ходе анализа вакансий можно отметить следующее:\n",
        "- в выборке есть вакансии не только по российским предприятиям и не только на территории РФ. Например, представлены вакансии в городах Минск (Беларусь), Алматы (Казахстан)\n",
        "- наибольшее количество вакансий в крупнейших городах и промышленных центрах: Москва, Санкт-Петербург, Минск, Новосибирск, Алматы\n",
        "- в выборке есть информация об актуальных вакансиях в 769 городах, в то время как общее количество зарегистрированных городов и населенных пунктов - 23,5 тыс.\n",
        "- не менее половины вакансий не содержат информации о зарплате для соискателей\n",
        "- по вакансиям, где указана зарплата, средние значения по \"зарплате ОТ\" - 71 тыс. руб, по \"зарплате ДО\" - 110 тыс. руб.\n",
        "- наиболее популярное сочетание типа рабочего графика и типа трудоустройства - Полный день, полная занятость. \n",
        "Иные варианты трудоустройства и рабочего графика гораздо менее востребованы работодателями\n",
        "- работодатели чаще ищут соискателей с опытом работы \"от 1 года до 3 лет\", вполовину реже - специалистов с опытом \"от 3 до 6 лет\". \n",
        "И гораздо реже ищут соискателей без опыта и специалистов со стажем более 6 лет.\n",
        "'''"
      ]
    },
    {
      "cell_type": "markdown",
      "id": "7ea20ab6-04a7-40a0-adec-443a0e5a42c3",
      "metadata": {
        "id": "7ea20ab6-04a7-40a0-adec-443a0e5a42c3"
      },
      "source": [
        "# Юнит 5. Анализ работодателей"
      ]
    },
    {
      "cell_type": "markdown",
      "id": "968aed80-74ef-4ffb-b5bf-c65b84e9caea",
      "metadata": {
        "id": "968aed80-74ef-4ffb-b5bf-c65b84e9caea"
      },
      "source": [
        "1. Напишите запрос, который позволит узнать, какие работодатели находятся на первом и пятом месте по количеству вакансий."
      ]
    },
    {
      "cell_type": "code",
      "execution_count": null,
      "id": "f2d62796-d400-4ec1-a675-88112739a50e",
      "metadata": {
        "id": "f2d62796-d400-4ec1-a675-88112739a50e"
      },
      "outputs": [],
      "source": [
        "query_5_1 = f'''\n",
        "              select\n",
        "              e.name,\n",
        "              count(*)\n",
        "              from employers e\n",
        "                JOIN vacancies v on e.id = v.employer_ID\n",
        "              Group by e.name\n",
        "              order by count(*) DESC\n",
        "              '''"
      ]
    },
    {
      "cell_type": "code",
      "source": [
        "most_active_employers = pd.read_sql_query(query_5_1, connection)\n",
        "print(f\"Компания на первом месте по количеству вакансий: {most_active_employers['name'][0]}\")\n",
        "print(f\"Компания на пятом месте по количеству вакансий: {most_active_employers['name'][4]}\")"
      ],
      "metadata": {
        "id": "64tOMkAxqkQk",
        "colab": {
          "base_uri": "https://localhost:8080/"
        },
        "outputId": "fe855154-b0b7-4bc7-fe0d-b9c7a780ded2"
      },
      "id": "64tOMkAxqkQk",
      "execution_count": null,
      "outputs": [
        {
          "output_type": "stream",
          "name": "stdout",
          "text": [
            "Компания на первом месте по количеству вакансий: Яндекс\n",
            "Компания на пятом месте по количеству вакансий: Газпром нефть\n"
          ]
        }
      ]
    },
    {
      "cell_type": "markdown",
      "id": "68377cfc-b378-43dc-ab7d-1195abf2c515",
      "metadata": {
        "id": "68377cfc-b378-43dc-ab7d-1195abf2c515"
      },
      "source": [
        "2. Напишите запрос, который для каждого региона выведет количество работодателей и вакансий в нём.\n",
        "Среди регионов, в которых нет вакансий, найдите тот, в котором наибольшее количество работодателей.\n"
      ]
    },
    {
      "cell_type": "code",
      "execution_count": null,
      "id": "dd7df27a-e3e8-412e-a21a-5d389b71e891",
      "metadata": {
        "id": "dd7df27a-e3e8-412e-a21a-5d389b71e891"
      },
      "outputs": [],
      "source": [
        "query_5_2 = f'''\n",
        "            select \n",
        "            a.name,\n",
        "            count(e.id) count_employers,\n",
        "            count(v.id) count_vacancyies\n",
        "            from areas a\n",
        "              LEFT JOIN employers e on a.id = e.area\n",
        "              LEFT JOIN vacancies v on a.id = v.area_id\n",
        "            group by a.name\n",
        "            --where count(v.id) is null\n",
        "            order by count_vacancyies, count_employers DESC\n",
        "            '''"
      ]
    },
    {
      "cell_type": "code",
      "source": [
        "areas_employes_vacancies = pd.read_sql_query(query_5_2, connection)\n",
        "print(f\"Регион без вакансий и с наибольшим количеством работодателей: {areas_employes_vacancies['name'][0]}\")"
      ],
      "metadata": {
        "id": "x1ikWbydrbf6",
        "colab": {
          "base_uri": "https://localhost:8080/"
        },
        "outputId": "0ca6c50e-7a93-4235-c525-11eb4a7d767f"
      },
      "id": "x1ikWbydrbf6",
      "execution_count": null,
      "outputs": [
        {
          "output_type": "stream",
          "name": "stdout",
          "text": [
            "Регион без вакансий и с наибольшим количеством работодателей: Россия\n"
          ]
        }
      ]
    },
    {
      "cell_type": "markdown",
      "id": "f2fe0acb-ab1a-4e15-9326-2560e22d73c1",
      "metadata": {
        "id": "f2fe0acb-ab1a-4e15-9326-2560e22d73c1"
      },
      "source": [
        "3. Для каждого работодателя посчитайте количество регионов, в которых он публикует свои вакансии. Отсортируйте результат по убыванию количества.\n"
      ]
    },
    {
      "cell_type": "code",
      "execution_count": null,
      "id": "6271f8ad-bd2e-4196-ae4a-5b39c4c1010e",
      "metadata": {
        "id": "6271f8ad-bd2e-4196-ae4a-5b39c4c1010e"
      },
      "outputs": [],
      "source": [
        "query_5_3 = f'''\n",
        "            select     \n",
        "            e.name company,\n",
        "            count(DISTINCT a.id)\n",
        "            from vacancies v\n",
        "              JOIN areas a on v.area_id = a.id\n",
        "              join employers e on e.id = v.employer_id\n",
        "            group by company\n",
        "            order by count(DISTINCT a.id) DESC\n",
        "            '''"
      ]
    },
    {
      "cell_type": "code",
      "source": [
        "regions_of_employers = pd.read_sql_query(query_5_3, connection)\n",
        "print(f\"Максимальное количество вакансий в разных регионах по одной компании: {regions_of_employers['count'][0]}\")\n",
        "print(regions_of_employers)"
      ],
      "metadata": {
        "id": "1EIvX3HasH4F",
        "colab": {
          "base_uri": "https://localhost:8080/"
        },
        "outputId": "38cf52b7-84b3-48a1-de06-79ef7e3b0e2c"
      },
      "id": "1EIvX3HasH4F",
      "execution_count": null,
      "outputs": [
        {
          "output_type": "stream",
          "name": "stdout",
          "text": [
            "Максимальное количество вакансий в разных регионах по одной компании: 181\n",
            "                      company  count\n",
            "0                      Яндекс    181\n",
            "1                  Ростелеком    152\n",
            "2                  Спецремонт    116\n",
            "3      Поляков Денис Иванович     88\n",
            "4                   ООО ЕФИН      71\n",
            "...                       ...    ...\n",
            "14761                  UniSol      1\n",
            "14762            UNISTORY LLC      1\n",
            "14763                   UNIT6      1\n",
            "14764     United Distribution      1\n",
            "14765              UNITEL LLC      1\n",
            "\n",
            "[14766 rows x 2 columns]\n"
          ]
        }
      ]
    },
    {
      "cell_type": "markdown",
      "id": "eab2206d-d95b-468b-8e5f-34381abf0ce7",
      "metadata": {
        "id": "eab2206d-d95b-468b-8e5f-34381abf0ce7"
      },
      "source": [
        "4. Напишите запрос для подсчёта количества работодателей, у которых не указана сфера деятельности. "
      ]
    },
    {
      "cell_type": "code",
      "execution_count": null,
      "id": "80defb23-bfb1-4a18-8be6-bf36aa7165d5",
      "metadata": {
        "id": "80defb23-bfb1-4a18-8be6-bf36aa7165d5"
      },
      "outputs": [],
      "source": [
        "query_5_4 = f'''\n",
        "            select count(*)\n",
        "            from employers e\n",
        "              left join Employers_industries ei on ei.employer_id = e.id\n",
        "            where ei.industry_id is null\n",
        "            '''"
      ]
    },
    {
      "cell_type": "code",
      "source": [
        "employers_without_ind_id = pd.read_sql_query(query_5_4, connection)\n",
        "print(f\"Количество работодателей без указания сферы деятельности: {employers_without_ind_id['count'][0]}\")"
      ],
      "metadata": {
        "id": "Dp_yCx6ysQSu",
        "colab": {
          "base_uri": "https://localhost:8080/"
        },
        "outputId": "2fa8b808-c57d-45f8-81b6-560b22b67b87"
      },
      "id": "Dp_yCx6ysQSu",
      "execution_count": null,
      "outputs": [
        {
          "output_type": "stream",
          "name": "stdout",
          "text": [
            "Количество работодателей без указания сферы деятельности: 8419\n"
          ]
        }
      ]
    },
    {
      "cell_type": "markdown",
      "id": "0112af31-f6b0-4e3b-82ab-71296e752e5e",
      "metadata": {
        "id": "0112af31-f6b0-4e3b-82ab-71296e752e5e"
      },
      "source": [
        "5. Напишите запрос, чтобы узнать название компании, находящейся на третьем месте в алфавитном списке (по названию) компаний, у которых указано четыре сферы деятельности. "
      ]
    },
    {
      "cell_type": "code",
      "execution_count": null,
      "id": "973b0cfc-a972-470a-8b4a-68744ef220c4",
      "metadata": {
        "id": "973b0cfc-a972-470a-8b4a-68744ef220c4"
      },
      "outputs": [],
      "source": [
        "query_5_5 = f''' \n",
        "            select\n",
        "              e.name AS name,\n",
        "              count(ei.industry_id)\n",
        "            from employers e\n",
        "              join Employers_Industries ei on e.id = ei.employer_id\n",
        "            group by e.name\n",
        "            having count(ei.industry_id) = 4\n",
        "            order by name\n",
        "            '''"
      ]
    },
    {
      "cell_type": "code",
      "source": [
        "employer_shperes_third = pd.read_sql_query(query_5_5, connection)\n",
        "print(f\"Название компании на 3 месте по алфавиту и с 4 сферами деятельности: {employer_shperes_third['name'][2]}\")"
      ],
      "metadata": {
        "id": "xsPtpp8EsaED",
        "colab": {
          "base_uri": "https://localhost:8080/"
        },
        "outputId": "aa08a8d7-87c9-4a59-d8ff-771315269f1c"
      },
      "id": "xsPtpp8EsaED",
      "execution_count": null,
      "outputs": [
        {
          "output_type": "stream",
          "name": "stdout",
          "text": [
            "Название компании на 3 месте по алфавиту и с 4 сферами деятельности: 2ГИС\n"
          ]
        }
      ]
    },
    {
      "cell_type": "markdown",
      "id": "3bfcfdaf-755d-4d2b-8ed8-326201dc07ab",
      "metadata": {
        "id": "3bfcfdaf-755d-4d2b-8ed8-326201dc07ab"
      },
      "source": [
        "6. С помощью запроса выясните, у какого количества работодателей в качестве сферы деятельности указана Разработка программного обеспечения.\n"
      ]
    },
    {
      "cell_type": "code",
      "execution_count": null,
      "id": "ad3f270f-2991-47eb-929b-e8f88a55b0d1",
      "metadata": {
        "id": "ad3f270f-2991-47eb-929b-e8f88a55b0d1"
      },
      "outputs": [],
      "source": [
        "query_5_6 = f''' \n",
        "            select\n",
        "              count(*)\n",
        "            from employers e\n",
        "              join Employers_Industries ei on e.id = ei.employer_id\n",
        "              join industries i on ei.industry_id = i.id\n",
        "            where i.name = 'Разработка программного обеспечения'\n",
        "            '''"
      ]
    },
    {
      "cell_type": "code",
      "source": [
        "count_employer_software = pd.read_sql_query(query_5_6, connection)\n",
        "print(f\"Количество работодателей работающих в сфере Разработка ПО: {count_employer_software['count'][0]} шт\")\n"
      ],
      "metadata": {
        "id": "H72qxWM0shPR",
        "colab": {
          "base_uri": "https://localhost:8080/"
        },
        "outputId": "304ac634-a4a9-4886-b729-99dbbb7be640"
      },
      "id": "H72qxWM0shPR",
      "execution_count": null,
      "outputs": [
        {
          "output_type": "stream",
          "name": "stdout",
          "text": [
            "Количество работодателей работающих в сфере Разработка ПО: 3553 шт\n"
          ]
        }
      ]
    },
    {
      "cell_type": "markdown",
      "id": "7b02bb86-0546-40fb-94a4-242f050a5c57",
      "metadata": {
        "id": "7b02bb86-0546-40fb-94a4-242f050a5c57"
      },
      "source": [
        "7. Для компании «Яндекс» выведите список регионов-миллионников, в которых представлены вакансии компании, вместе с количеством вакансий в этих регионах. Также добавьте строку Total с общим количеством вакансий компании. Результат отсортируйте по возрастанию количества.\n",
        "\n",
        "Список городов-милионников надо взять [отсюда](https://ru.wikipedia.org/wiki/%D0%93%D0%BE%D1%80%D0%BE%D0%B4%D0%B0-%D0%BC%D0%B8%D0%BB%D0%BB%D0%B8%D0%BE%D0%BD%D0%B5%D1%80%D1%8B_%D0%A0%D0%BE%D1%81%D1%81%D0%B8%D0%B8). \n",
        "\n",
        "Если возникнут трудности с этим задание посмотрите материалы модуля  PYTHON-17. Как получать данные из веб-источников и API. "
      ]
    },
    {
      "cell_type": "code",
      "source": [
        "url ='https://ru.wikipedia.org/wiki/%D0%93%D0%BE%D1%80%D0%BE%D0%B4%D0%B0-%D0%BC%D0%B8%D0%BB%D0%BB%D0%B8%D0%BE%D0%BD%D0%B5%D1%80%D1%8B_%D0%A0%D0%BE%D1%81%D1%81%D0%B8%D0%B8'\n",
        "tables_site = pd.read_html(url)\n",
        "\n",
        "table_cities_millioners = tables_site[1]\n",
        "list_city_millioners = []\n",
        "list_city_millioners_broken = list(table_cities_millioners['Город'])\n",
        "for item in list_city_millioners_broken:\n",
        "  item = item.replace('[a]', '')\n",
        "  list_city_millioners.append(item)\n",
        "\n",
        "tuple_city_millioners = tuple(list_city_millioners)"
      ],
      "metadata": {
        "id": "ZdfrL6gIs1Pn"
      },
      "id": "ZdfrL6gIs1Pn",
      "execution_count": null,
      "outputs": []
    },
    {
      "cell_type": "code",
      "execution_count": null,
      "id": "5a0e32a4-e68a-4365-8a39-2fe24c542c36",
      "metadata": {
        "id": "5a0e32a4-e68a-4365-8a39-2fe24c542c36"
      },
      "outputs": [],
      "source": [
        "query_5_7 = f'''\n",
        "            select\n",
        "              a.name AS name,\n",
        "              count(*) cnt\n",
        "            from vacancies v\n",
        "              join areas a on a.id = v.area_id\n",
        "              join employers e on e.id = v.employer_id\n",
        "            where e.name = 'Яндекс'\n",
        "              and a.name in {tuple_city_millioners}\n",
        "            group by a.name\n",
        "\n",
        "            union\n",
        "\n",
        "            select\n",
        "            'total',\n",
        "            count(v.id)\n",
        "            from vacancies v\n",
        "              join areas a on a.id = v.area_id\n",
        "              join employers e on e.id = v.employer_id\n",
        "            where e.name = 'Яндекс'\n",
        "              and a.name in {tuple_city_millioners}\n",
        "\n",
        "            \n",
        "            order by cnt\n",
        "            '''"
      ]
    },
    {
      "cell_type": "code",
      "source": [
        "yandex_city_millioners = pd.read_sql_query(query_5_7, connection)\n",
        "print(yandex_city_millioners)"
      ],
      "metadata": {
        "id": "ttPhiO1rsvPq",
        "colab": {
          "base_uri": "https://localhost:8080/"
        },
        "outputId": "bb3ba215-80c3-410f-8380-22adb290ff4f"
      },
      "id": "ttPhiO1rsvPq",
      "execution_count": null,
      "outputs": [
        {
          "output_type": "stream",
          "name": "stdout",
          "text": [
            "               name  cnt\n",
            "0              Омск   21\n",
            "1         Челябинск   22\n",
            "2        Красноярск   23\n",
            "3         Волгоград   24\n",
            "4             Пермь   25\n",
            "5            Казань   25\n",
            "6    Ростов-на-Дону   25\n",
            "7               Уфа   26\n",
            "8            Самара   26\n",
            "9         Краснодар   30\n",
            "10          Воронеж   32\n",
            "11      Новосибирск   35\n",
            "12  Нижний Новгород   36\n",
            "13     Екатеринбург   39\n",
            "14  Санкт-Петербург   42\n",
            "15           Москва   54\n",
            "16            total  485\n"
          ]
        }
      ]
    },
    {
      "cell_type": "markdown",
      "id": "04966e40-3bc3-4dc8-9ba2-e80580ce3abc",
      "metadata": {
        "id": "04966e40-3bc3-4dc8-9ba2-e80580ce3abc"
      },
      "source": [
        "***"
      ]
    },
    {
      "cell_type": "code",
      "source": [
        "''' \n",
        "При исследованни работодателей обратил внимание на следующие факты:\n",
        "- наиболее активными работодателями являются компании связанные с ИТ (Яндекс, Ростелеком) и банки (СБЕР, Тинькофф). \n",
        "Первый представитель сферы добычи полезных ископаемых - Газпромнефть, находится на 5 строчке в рейтинге наиболее активных работодателей\n",
        "- из показателя \"Регион с максимальным количеством компаний без активных вакансий\" = \"Россия\", мы видим, \n",
        "что большое количество работодателей не верно заполнили данные о своем местоположении и городах присутствия.\n",
        "- по количеству городов с активными вакансиями наиболее активными снова оказались Яндекс (181 городов) и Ростелеком (152 города). \n",
        "Интересно, что на 4 месте по количеству городов с актуальныи вакансиями идет Поляков Денис Иванович. \n",
        "Выгрузил данные по вакансиям этого работодателя, и увидел, что этот ИП активно ищет компьютерных мастеров в различных городах.\n",
        "- 8,4 тыс работодателей не заполнили данные о сферах своей деятельности. \n",
        "Если у них настолько неполные данные в своей учетной карточке, вероятно это не самые надежные компании\n",
        "- 3,5 тыс работодателей указали в сферах своей деятельности \"Разработку ПО\".\n",
        "Чем больше работодателей в этой сфере, тем лучше в том числе и для начинающих специалистов - чтобы были шансы найти работу по новой специальности\n",
        "- если детально посмотреть на вакансии Яндекса по городам-миллионникам, то видно, \n",
        "что не только в Москве и Санкт-Петербурге требуются специалисты, но и в других городах-миллионниках тоже.\n",
        "'''"
      ],
      "metadata": {
        "id": "aGGyER-yt4SR"
      },
      "id": "aGGyER-yt4SR",
      "execution_count": null,
      "outputs": []
    },
    {
      "cell_type": "markdown",
      "id": "b1ef156a-efcb-49ce-bb23-90763e7f35b2",
      "metadata": {
        "tags": [],
        "id": "b1ef156a-efcb-49ce-bb23-90763e7f35b2"
      },
      "source": [
        "# Юнит 6. Предметный анализ"
      ]
    },
    {
      "cell_type": "markdown",
      "id": "b9cd50a0-992d-4988-8463-2b2b1c4629b4",
      "metadata": {
        "id": "b9cd50a0-992d-4988-8463-2b2b1c4629b4"
      },
      "source": [
        "1. Сколько вакансий имеет отношение к данным?\n",
        "\n",
        "Считаем, что вакансия имеет отношение к данным, если в её названии содержатся слова 'data' или 'данн'.\n",
        "\n",
        "*Подсказка: Обратите внимание, что названия вакансий могут быть написаны в любом регистре.* \n"
      ]
    },
    {
      "cell_type": "code",
      "execution_count": null,
      "id": "54ab0e50-c0f1-47cc-a54b-bc5c8bc363f9",
      "metadata": {
        "id": "54ab0e50-c0f1-47cc-a54b-bc5c8bc363f9"
      },
      "outputs": [],
      "source": [
        "query_6_1 = f''' \n",
        "            select count(*)\n",
        "            from vacancies\n",
        "            where lower(name) LIKE '%data%' or lower(name) LIKE '%данн%'\n",
        "            '''"
      ]
    },
    {
      "cell_type": "code",
      "source": [
        "vacancies_data = pd.read_sql_query(query_6_1, connection)\n",
        "print(f\"Количество вакансия, связанных с данными: {vacancies_data['count'][0]}\")"
      ],
      "metadata": {
        "id": "9F1meAqsuUjd",
        "colab": {
          "base_uri": "https://localhost:8080/"
        },
        "outputId": "b2ab9417-c52a-4700-c357-68b8046e4f4e"
      },
      "id": "9F1meAqsuUjd",
      "execution_count": null,
      "outputs": [
        {
          "output_type": "stream",
          "name": "stdout",
          "text": [
            "Количество вакансия, связанных с данными: 1771\n"
          ]
        }
      ]
    },
    {
      "cell_type": "markdown",
      "id": "4dea20cb-a36b-474a-a0b9-e08e8e3857a5",
      "metadata": {
        "id": "4dea20cb-a36b-474a-a0b9-e08e8e3857a5"
      },
      "source": [
        "2. Сколько есть подходящих вакансий для начинающего дата-сайентиста? \n",
        "Будем считать вакансиями для дата-сайентистов такие, в названии которых есть хотя бы одно из следующих сочетаний:\n",
        "* 'data scientist'\n",
        "* 'data science'\n",
        "* 'исследователь данных'\n",
        "* 'ML' (здесь не нужно брать вакансии по HTML)\n",
        "* 'machine learning'\n",
        "* 'машинн%обучен%'\n",
        "\n",
        "** В следующих заданиях мы продолжим работать с вакансиями по этому условию.*\n",
        "\n",
        "Считаем вакансиями для специалистов уровня Junior следующие:\n",
        "* в названии есть слово 'junior' *или*\n",
        "* требуемый опыт — Нет опыта *или*\n",
        "* тип трудоустройства — Стажировка.\n",
        " "
      ]
    },
    {
      "cell_type": "code",
      "execution_count": null,
      "id": "9c61b3c0-bb66-46c9-ae1e-81d3f5752b4a",
      "metadata": {
        "id": "9c61b3c0-bb66-46c9-ae1e-81d3f5752b4a"
      },
      "outputs": [],
      "source": [
        "query_6_2 = f''' \n",
        "            select \n",
        "            count(*)\n",
        "            from vacancies\n",
        "            where \n",
        "            (lower(name) LIKE '%data scientist%' \n",
        "            or lower(name) LIKE '%data science%'\n",
        "            or lower(name) LIKE '%исследователь данных%'\n",
        "            or (name LIKE '%ML%' and name NOT LIKE '%HTML%')\n",
        "            or lower(name) LIKE '%machine%learning%'\n",
        "            or lower(name) LIKE '%машинн%обучен%')\n",
        "            and (lower(name) LIKE '%junior%' or experience = 'Нет опыта' or employment = 'Стажировка')\n",
        "            '''\n"
      ]
    },
    {
      "cell_type": "code",
      "source": [
        "vacancies_for_ds = pd.read_sql_query(query_6_2, connection)\n",
        "print(f\"Количество DS вакансий для новичков: {vacancies_for_ds['count'][0]} шт\")"
      ],
      "metadata": {
        "id": "ZNM-LLYuu1dj",
        "colab": {
          "base_uri": "https://localhost:8080/"
        },
        "outputId": "afcb50fb-b134-4307-9ee0-f34d8dd4b518"
      },
      "id": "ZNM-LLYuu1dj",
      "execution_count": null,
      "outputs": [
        {
          "output_type": "stream",
          "name": "stdout",
          "text": [
            "Количество DS вакансий для новичков: 51 шт\n"
          ]
        }
      ]
    },
    {
      "cell_type": "markdown",
      "id": "eedceb80-c5ca-480e-b27a-278dfb8b4438",
      "metadata": {
        "id": "eedceb80-c5ca-480e-b27a-278dfb8b4438"
      },
      "source": [
        "3. Сколько есть вакансий для DS, в которых в качестве ключевого навыка указан SQL или postgres?\n",
        "\n",
        "** Критерии для отнесения вакансии к DS указаны в предыдущем задании.*"
      ]
    },
    {
      "cell_type": "code",
      "execution_count": null,
      "id": "69621713-0cc5-4f1b-a1d7-bb144fa6148c",
      "metadata": {
        "id": "69621713-0cc5-4f1b-a1d7-bb144fa6148c"
      },
      "outputs": [],
      "source": [
        "query_6_3 = f''' \n",
        "            select count(*)\n",
        "            from vacancies\n",
        "            where \n",
        "            (lower(name) LIKE '%data scientist%' \n",
        "            or lower(name) LIKE '%data science%'\n",
        "            or lower(name) LIKE '%исследователь данных%'\n",
        "            or (name LIKE '%ML%' and name NOT LIKE '%HTML%')\n",
        "            or lower(name) LIKE '%machine%learning%'\n",
        "            or lower(name) LIKE '%машинн%обучен%')\n",
        "            and (key_skills LIKE '%SQL%' or lower(key_skills) LIKE '%postgres%')\n",
        "            '''"
      ]
    },
    {
      "cell_type": "code",
      "source": [
        "vacancies_with_SQL_postgres = pd.read_sql_query(query_6_3, connection)\n",
        "print(f\"Количество вакансий DS, где необходимы навыки SQL и Postgres: {vacancies_with_SQL_postgres['count'][0]} шт\")"
      ],
      "metadata": {
        "id": "alA8WEAAvGdf",
        "colab": {
          "base_uri": "https://localhost:8080/"
        },
        "outputId": "754e9e07-a999-4a6f-ec56-900e6d39bea8"
      },
      "id": "alA8WEAAvGdf",
      "execution_count": null,
      "outputs": [
        {
          "output_type": "stream",
          "name": "stdout",
          "text": [
            "Количество вакансий DS, где необходимы навыки SQL и Postgres: 201 шт\n"
          ]
        }
      ]
    },
    {
      "cell_type": "markdown",
      "id": "1be1e9c6-37cf-4a5f-bfeb-04cab799dc80",
      "metadata": {
        "id": "1be1e9c6-37cf-4a5f-bfeb-04cab799dc80"
      },
      "source": [
        "4. Проверьте, насколько популярен Python в требованиях работодателей к DS.Для этого вычислите количество вакансий, в которых в качестве ключевого навыка указан Python.\n",
        "\n",
        "** Это можно сделать помощью запроса, аналогичного предыдущему.*"
      ]
    },
    {
      "cell_type": "code",
      "execution_count": null,
      "id": "0036a355-9ccf-4564-8b01-73d8194297e7",
      "metadata": {
        "id": "0036a355-9ccf-4564-8b01-73d8194297e7"
      },
      "outputs": [],
      "source": [
        "query_6_4 = f''' \n",
        "            select count(*)\n",
        "            from vacancies\n",
        "            where \n",
        "            (lower(name) LIKE '%data scientist%' \n",
        "            or lower(name) LIKE '%data science%'\n",
        "            or lower(name) LIKE '%исследователь данных%'\n",
        "            or (name LIKE '%ML%' and name NOT LIKE '%HTML%')\n",
        "            or lower(name) LIKE '%machine%learning%'\n",
        "            or lower(name) LIKE '%машинн%обучен%')\n",
        "            and lower(key_skills) LIKE '%python%'\n",
        "            '''"
      ]
    },
    {
      "cell_type": "code",
      "source": [
        "vacancies_with_python = pd.read_sql_query(query_6_4, connection)\n",
        "print(f\"Количество вакансий DS, где необходимы навыки Python: {vacancies_with_python['count'][0]} шт\")"
      ],
      "metadata": {
        "id": "1i-5WyucvQ6v",
        "colab": {
          "base_uri": "https://localhost:8080/"
        },
        "outputId": "a4e281b3-975a-4926-f315-973fdfae3f97"
      },
      "id": "1i-5WyucvQ6v",
      "execution_count": null,
      "outputs": [
        {
          "output_type": "stream",
          "name": "stdout",
          "text": [
            "Количество вакансий DS, где необходимы навыки Python: 351 шт\n"
          ]
        }
      ]
    },
    {
      "cell_type": "markdown",
      "id": "ec3c8db7-fa21-4a41-a994-1af63742a642",
      "metadata": {
        "id": "ec3c8db7-fa21-4a41-a994-1af63742a642"
      },
      "source": [
        "5. Сколько ключевых навыков в среднем указывают в вакансиях для DS?\n",
        "Ответ округлите до двух знаков после точки-разделителя."
      ]
    },
    {
      "cell_type": "code",
      "execution_count": 10,
      "id": "949132bc-d5b6-4611-8218-0b9a504d74f4",
      "metadata": {
        "id": "949132bc-d5b6-4611-8218-0b9a504d74f4"
      },
      "outputs": [],
      "source": [
        "query_6_5 = f''' \n",
        "            select  \n",
        "            round(\n",
        "            avg(\n",
        "              length(key_skills) -\n",
        "              length(replace(key_skills, CHR(9), '')) + 1\n",
        "            ),2)\n",
        "            from vacancies\n",
        "            where \n",
        "            (lower(name) LIKE '%data scientist%' \n",
        "            or lower(name) LIKE '%data science%'\n",
        "            or lower(name) LIKE '%исследователь данных%'\n",
        "            or (name LIKE '%ML%' and name NOT LIKE '%HTML%')\n",
        "            or lower(name) LIKE '%machine%learning%'\n",
        "            or lower(name) LIKE '%машинн%обучен%')\n",
        "            and key_skills is not null'''"
      ]
    },
    {
      "cell_type": "code",
      "source": [
        "count_key_skill_in_DS_vacancies = pd.read_sql_query(query_6_5, connection)\n",
        "print(f\"Среднее количество навыков, требуемых в вакансиях по DS: {count_key_skill_in_DS_vacancies['round'][0]} шт\")"
      ],
      "metadata": {
        "id": "a3V24Tvmviqk",
        "colab": {
          "base_uri": "https://localhost:8080/"
        },
        "outputId": "3028fd67-dbfc-4223-b594-118c34769b86"
      },
      "id": "a3V24Tvmviqk",
      "execution_count": 11,
      "outputs": [
        {
          "output_type": "stream",
          "name": "stdout",
          "text": [
            "Среднее количество навыков, требуемых в вакансиях по DS: 6.41 шт\n"
          ]
        }
      ]
    },
    {
      "cell_type": "markdown",
      "id": "1041c17a-ca8f-4543-a0ca-32778914fb00",
      "metadata": {
        "id": "1041c17a-ca8f-4543-a0ca-32778914fb00"
      },
      "source": [
        "6. Напишите запрос, позволяющий вычислить, какую зарплату для DS в **среднем** указывают для каждого типа требуемого опыта (уникальное значение из поля *experience*). \n",
        "\n",
        "При решении задачи примите во внимание следующее:\n",
        "1. Рассматриваем только вакансии, у которых заполнено хотя бы одно из двух полей с зарплатой.\n",
        "2. Если заполнены оба поля с зарплатой, то считаем зарплату по каждой вакансии как сумму двух полей, делённую на 2. Если заполнено только одно из полей, то его и считаем зарплатой по вакансии.\n",
        "3. Если в расчётах участвует null, в результате он тоже даст null (посмотрите, что возвращает запрос select 1 + null). Чтобы избежать этой ситуацию, мы воспользуемся функцией [coalesce](https://postgrespro.ru/docs/postgresql/9.5/functions-conditional#functions-coalesce-nvl-ifnull), которая заменит null на значение, которое мы передадим. Например, посмотрите, что возвращает запрос `select 1 + coalesce(null, 0)`\n",
        "\n",
        "Выясните, на какую зарплату в среднем может рассчитывать дата-сайентист с опытом работы от 3 до 6 лет. Результат округлите до целого числа. "
      ]
    },
    {
      "cell_type": "code",
      "execution_count": 7,
      "id": "6a743d39-5204-48d3-8271-b9f88e68d40e",
      "metadata": {
        "id": "6a743d39-5204-48d3-8271-b9f88e68d40e"
      },
      "outputs": [],
      "source": [
        "query_6_6 = f''' \n",
        "            select \n",
        "              experience,\n",
        "              round(AVG(COALESCE((salary_from+salary_to)/2, salary_from, salary_to)),0) AS money\n",
        "            from vacancies\n",
        "            where \n",
        "            (lower(name) LIKE '%data scientist%' \n",
        "            or lower(name) LIKE '%data science%'\n",
        "            or lower(name) LIKE '%исследователь данных%'\n",
        "            or (name LIKE '%ML%' and name NOT LIKE '%HTML%')\n",
        "            or lower(name) LIKE '%machine%learning%'\n",
        "            or lower(name) LIKE '%машинн%обучен%')\n",
        "            and (salary_from is not null or salary_to is not null)\n",
        "\n",
        "            group by experience\n",
        "            '''"
      ]
    },
    {
      "cell_type": "code",
      "source": [
        "avg_salary_DS_specialists = pd.read_sql_query(query_6_6, connection)\n",
        "print(f\"Средняя зарплата в сотрудников DS с опытом работы от 3 до 6 лет: {avg_salary_DS_specialists[avg_salary_DS_specialists['experience'] == 'От 3 до 6 лет']['money'][2]} руб\")"
      ],
      "metadata": {
        "id": "aRIJ0mZEwU1_",
        "colab": {
          "base_uri": "https://localhost:8080/"
        },
        "outputId": "aa1abeb1-6b83-40b6-b345-9e6af8afd78c"
      },
      "id": "aRIJ0mZEwU1_",
      "execution_count": 9,
      "outputs": [
        {
          "output_type": "stream",
          "name": "stdout",
          "text": [
            "Средняя зарплата в сотрудников DS с опытом работы от 3 до 6 лет: 243115.0 руб\n"
          ]
        }
      ]
    },
    {
      "cell_type": "markdown",
      "id": "6a7892b4-4113-4746-adce-18aa2844f18e",
      "metadata": {
        "id": "6a7892b4-4113-4746-adce-18aa2844f18e"
      },
      "source": [
        "***"
      ]
    },
    {
      "cell_type": "code",
      "source": [
        "''' \n",
        "Выводы по анализу вакансий, имеющих отношение к DS:\n",
        "- из 49 тысяч вакансий 1771 вакансий имеет отношения к данным. Это достаточно много, около 3-4% от общего количества вакансий\n",
        "- всего 51 вакансия есть для начинающих специалистов по вакансиям, имеющим отношение к DS. \n",
        "Это не очень много, у начинающих специалистов вероятно очень большая конкуренция друг с другом за место в новой специальности\n",
        "- в вакансиях по DS очень популярные требования к навыкам: по владению SQL (это требование указано в 201 вакансии) и языком Python (в 351 вакансии)\n",
        "- в вакансиях по DS в среднем указывают 6,4 требуемых навыков, которые работодатели ждут от соискателей\n",
        "- средняя зарплата в вакансиях по DS распределяется следующим образом: без опыта - 74.6 тыс.руб., с опытом от 1 до 3 лет - 139,6 тыс.руб, с опытом от 3 до 6 лет - 243,1 тыс.руб.\n",
        "'''"
      ],
      "metadata": {
        "id": "UjLWUptVwY1o"
      },
      "id": "UjLWUptVwY1o",
      "execution_count": null,
      "outputs": []
    },
    {
      "cell_type": "markdown",
      "source": [
        "# Общий вывод по проекту"
      ],
      "metadata": {
        "id": "c0ED6fh7wiBT"
      },
      "id": "c0ED6fh7wiBT"
    },
    {
      "cell_type": "code",
      "source": [
        "# подведем итог исследования, обобщите выводы\n",
        "'''\n",
        "Для исследования предоставлена выборка, из которой можно извлечь ряд полезной информации и сделать ценные выводы. \n",
        "Видим, что часть данных из выборки нужно исключить: как минимум убрать работодателей без активных вакансий, \n",
        "в большом количестве вакансий не указаны необходимые данные о предлагаемой зарплате и/или ключевых навыков для соискателей.\n",
        "\n",
        "По вакансиям по DS работодатели предъявляют достаточно высокие требования, \n",
        "даже от специалистов без опыта работы в среднем работодатели хотят видеть как минимум 6-7 ключевых навыков.\n",
        "\n",
        "Вакансии по DS есть, зарплату на эти должности предлагают в среднем выше, чем по другим работам. \n",
        "Однако новичкам войти в профессию не так просто, т.к. конкуренция вероятно уже достаточно высокая.\n",
        "'''\n",
        "# здесь можно (это будет плюсом) провести дополнительные исследования данных, сделать прогнозы, продумать варианты продолжения исследования\n",
        "\n",
        "'''\n",
        "Ниже вывел навыки, которые работодатели чаще всего требуют от соискателей вакансий DS \n",
        "а также определил первую пятерку городов, где больше всего вакансий по DS.\n",
        "'''"
      ],
      "metadata": {
        "id": "h9B3BL-wwj18"
      },
      "id": "h9B3BL-wwj18",
      "execution_count": null,
      "outputs": []
    },
    {
      "cell_type": "code",
      "source": [
        "# Определим, какие навыки чаще всего требуют работодателей для вакансий по DS\n",
        "\n",
        "# готовим SQL-запрос \n",
        "query_all_chart = f''' \n",
        "                  select \n",
        "                    key_skills\n",
        "                  from vacancies\n",
        "                  where\n",
        "                  (lower(name) LIKE '%data scientist%' \n",
        "                  or lower(name) LIKE '%data science%'\n",
        "                  or lower(name) LIKE '%исследователь данных%'\n",
        "                  or (name LIKE '%ML%' and name NOT LIKE '%HTML%')\n",
        "                  or lower(name) LIKE '%machine%learning%'\n",
        "                  or lower(name) LIKE '%машинн%обучен%')\n",
        "                  and key_skills is not null\n",
        "                  '''\n",
        "\n",
        "# результат запроса считываем как таблицу в Pandas\n",
        "all_charts = pd.read_sql_query(query_all_chart, connection)\n",
        "\n",
        "# готовим функцию, которая строку с навыками переведет в список навыков\n",
        "def cnt_skills(all_skills):\n",
        "  new_list = list(all_skills.split('\\t'))\n",
        "  return new_list\n",
        "\n",
        "# применяем функцию к столбцу с перечнем навыков\n",
        "all_lists = all_charts['key_skills'].apply(cnt_skills)\n",
        "\n",
        "# создаем список, в котором будут хранится все навыки, требуемые всеми работодателями\n",
        "all_skills = []\n",
        "\n",
        "# собираем все требуемые навыки в один список\n",
        "for item in all_lists:\n",
        "  all_skills.extend(item)\n",
        "\n",
        "# переводим список со списком всех навыков в множество, чем убираем дубли\n",
        "set_skills = set(all_skills)\n",
        "\n",
        "# создаем пустой словарь, где будут храниться все навыки, требуемые работодателями, значениями будет кол-во повторов\n",
        "dict_skills = {}\n",
        "\n",
        "# заполняем словарь значениями\n",
        "for i in set_skills:\n",
        "  dict_skills[i] = all_skills.count(i)\n",
        "\n",
        "# создаем промежуточный список со значениями словаря \n",
        "sorted_values = reversed(sorted(dict_skills.values()))\n",
        "\n",
        "# создаем словарь, в котором будут отсортированные значения\n",
        "new_dict = {}\n",
        "\n",
        "# сортируем словарь - в начале будут идти наиболее часто требуемые навыки\n",
        "for j in sorted_values:\n",
        "  for k in dict_skills.keys():\n",
        "    if dict_skills[k] == j:\n",
        "      new_dict[k] = dict_skills[k]\n",
        "      break\n",
        "\n",
        "\n",
        "print(f\"Список наиболее часто встречаемых требований к специалистам по DS: {new_dict}\")\n",
        "print(f\"Всего различных требований к соискателям по DS: {len(new_dict)} \")\n"
      ],
      "metadata": {
        "colab": {
          "base_uri": "https://localhost:8080/"
        },
        "id": "rEhSeNoRLz9q",
        "outputId": "03e9b6ec-7257-4099-95c9-acc31245cb32"
      },
      "id": "rEhSeNoRLz9q",
      "execution_count": 70,
      "outputs": [
        {
          "output_type": "stream",
          "name": "stdout",
          "text": [
            "Список наиболее часто встречаемых требований к специалистам по DS: {'Python': 348, 'SQL': 191, 'Machine Learning': 114, 'Git': 66, 'Математическая статистика': 62, 'Data Analysis': 54, 'Data Science': 52, 'ML': 49, 'Английский язык': 48, 'Linux': 47, 'PyTorch': 46, 'Big Data': 42, 'Математическое моделирование': 41, 'Статистический анализ': 40, 'C++': 39, 'Spark': 38, 'Tensorflow': 35, 'Numpy': 34, 'Hadoop': 33, 'Машинное обучение': 31, 'Docker': 30, 'Математический анализ': 29, 'Java': 28, 'Аналитическое мышление': 25, 'Deep Learning': 22, 'Data Mining': 21, 'Computer Vision': 19, 'PostgreSQL': 18, 'SCALA': 17, 'Аналитические исследования': 16, 'Scikit-learn': 14, 'Оценка рисков': 13, 'Qt': 12, 'docker': 11, 'QML': 10, 'MS Visual Studio': 9, 'R': 8, 'Управление проектами': 7, 'Golang': 6, 'Hive': 5, 'Аналитика': 4, 'pandas': 3, 'Исследования рынка': 2, 'Математические модели': 1}\n",
            "Всего различных требований к соискателям по DS: 44 \n"
          ]
        }
      ]
    },
    {
      "cell_type": "code",
      "source": [
        "# определим, в каких городах больше всего вакансий с DS\n",
        "\n",
        "# формируем SQL-запрос \n",
        "query_city_DS = f''' \n",
        "                  select \n",
        "                    a.name region,\n",
        "                    count(v.id) cnt\n",
        "                  from vacancies v\n",
        "                    join areas a on v.area_id = a.id\n",
        "                  where\n",
        "                  (lower(v.name) LIKE '%data scientist%' \n",
        "                  or lower(v.name) LIKE '%data science%'\n",
        "                  or lower(v.name) LIKE '%исследователь данных%'\n",
        "                  or (v.name LIKE '%ML%' and v.name NOT LIKE '%HTML%')\n",
        "                  or lower(v.name) LIKE '%machine%learning%'\n",
        "                  or lower(v.name) LIKE '%машинн%обучен%')\n",
        "                  group by  region\n",
        "                  order by cnt DESC\n",
        "                  '''\n",
        "\n",
        "# результат запроса считываем как таблицу в Pandas\n",
        "city_DS = pd.read_sql_query(query_city_DS, connection)\n",
        "print(f\"Первая пятерка городов с максимальным количеством вакансий по DS: \\n{city_DS.iloc[:5]}\")\n"
      ],
      "metadata": {
        "colab": {
          "base_uri": "https://localhost:8080/"
        },
        "id": "1mO0hRni7H0z",
        "outputId": "3f952d6d-f9b0-4e8c-9eb1-40035f886ac7"
      },
      "id": "1mO0hRni7H0z",
      "execution_count": 78,
      "outputs": [
        {
          "output_type": "stream",
          "name": "stdout",
          "text": [
            "Первая пятерка городов с максимальным количеством вакансий по DS: \n",
            "            region  cnt\n",
            "0           Москва  217\n",
            "1  Санкт-Петербург   64\n",
            "2      Новосибирск   23\n",
            "3  Нижний Новгород   20\n",
            "4           Казань   16\n"
          ]
        }
      ]
    }
  ],
  "metadata": {
    "kernelspec": {
      "display_name": "Python 3 (ipykernel)",
      "language": "python",
      "name": "python3"
    },
    "language_info": {
      "codemirror_mode": {
        "name": "ipython",
        "version": 3
      },
      "file_extension": ".py",
      "mimetype": "text/x-python",
      "name": "python",
      "nbconvert_exporter": "python",
      "pygments_lexer": "ipython3",
      "version": "3.9.7"
    },
    "colab": {
      "provenance": [],
      "collapsed_sections": [
        "8d62a9f3-f64e-4fe7-bdac-c4dffa16155e"
      ],
      "include_colab_link": true
    }
  },
  "nbformat": 4,
  "nbformat_minor": 5
}